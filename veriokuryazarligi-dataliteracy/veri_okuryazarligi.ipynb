{
 "cells": [
  {
   "cell_type": "markdown",
   "metadata": {},
   "source": [
    "# # Veri Okur-Yazarlığı - Data Literacy"
   ]
  },
  {
   "cell_type": "markdown",
   "metadata": {},
   "source": [
    "Popülasyon - population : Veri bilimi uygulamasında ilgilendiğimiz ana kitlemizdir."
   ]
  },
  {
   "cell_type": "markdown",
   "metadata": {},
   "source": [
    "Örneklem - Sample : Popülasyon içerisinden seçilen bir alt kümedir. Örneklem popülasyonun özelliklerini temsil etmesi ve yansız olması gerekir. Örnekse 80 milyon kişinin katıldığı bir seçim için bu kitleyi temsil eden iyi bir örneklemin incelenmesi daha uygun olur."
   ]
  },
  {
   "cell_type": "markdown",
   "metadata": {},
   "source": [
    "Observation Unit - Gözlem Birimi : Verideki her bir satır veri bir gözlem birimidir."
   ]
  },
  {
   "cell_type": "markdown",
   "metadata": {},
   "source": [
    "Variables and Variables Types - Değişkenler ve Değişken Türleri : Değişkenler birimden birime farklı değerler alan niceliklerdir.\n",
    "Değişken türleri\n",
    "- Sayısal Değişkenler (nicel, kantitatif)\n",
    "- Kategorik Değişkenler (nitel, kalitatif) "
   ]
  },
  {
   "cell_type": "markdown",
   "metadata": {},
   "source": [
    "Ölçek Türleri - Scale of Measurement\n",
    "- Sayısal değişkenler için : Aralık ve Oran\n",
    "> Aralık : Başlangıç noktası sıfır olmayan sayısal değişkenlerin ölçek türü aralıktır. Sıcaklık vs.\n",
    "> Oran : Başlangıç noktasını sıfır kabul eden sayısal değişkenlerin ölçek türü orandır. Fiyat, km vs.\n",
    "- Kategorik değişkenler için : Nominal ve Ordinal\n",
    "> Nominal : Cinsiyet bir kategorik değişkendir. \"Kadın\" ve \"Erkek\" is bu kategorik değişkenin sınıflarıdır. \"Kadın\" ve \"Erkek\" sınıfları arasında fark olmadığı için bu değişken nominal ölçek türüne sahiptir.\n",
    "> Ordinal : Rütbe bir kategorik değişkendir. Bu kategorik değişkenin sınıfları: Onbaşı - Yüzbaşı - Binbaşı - Albay dır. Değişkenin sınıfları arasında fark olduğu için \"Rütbe\" değişkeni ordinaldir."
   ]
  },
  {
   "cell_type": "markdown",
   "metadata": {},
   "source": [
    "# # Merkezi Eğilim Ölçüleri"
   ]
  },
  {
   "cell_type": "markdown",
   "metadata": {},
   "source": [
    "Arithmetic Mean - Aritmetik Ortalama : Bir seride (değişkende) yer alan tüm değerlerin toplanması ve birim sayısına bölünmesiyle elde edilen istatistiktir."
   ]
  },
  {
   "cell_type": "markdown",
   "metadata": {},
   "source": [
    "Median - Medyan : Bir seriyi küçükten büyüğe veya büyükten küçüğe sıraladığımızda tam orta noktadan seriyi iki eşit parçaya ayıran değere medyan adı verilir."
   ]
  },
  {
   "cell_type": "markdown",
   "metadata": {},
   "source": [
    "Mode - Mod : Bir seride (değişkende) en çok tekrar eden değere mod adı verilir"
   ]
  },
  {
   "cell_type": "markdown",
   "metadata": {},
   "source": [
    "Quartiles - Kartiller : Küçükten büyüğe sıralanan bir seriyi 4 parçaya ayıran değerlere kartiller denir."
   ]
  },
  {
   "cell_type": "markdown",
   "metadata": {},
   "source": [
    "# # Dağılım ölçüleri - Measures of Dispersion"
   ]
  },
  {
   "cell_type": "markdown",
   "metadata": {},
   "source": [
    "Değişim Aralığı - Range : Max değerden min değeri çıkardığımızda elde edilen veridir. "
   ]
  },
  {
   "cell_type": "markdown",
   "metadata": {},
   "source": [
    "Standart Sapma - Standard Deviation : Ortalamadan olan sapmaların genel bir ölçüsüdür. Ortalamadan olan sapmaların ortalamasıdır."
   ]
  },
  {
   "cell_type": "markdown",
   "metadata": {},
   "source": [
    "<img src=\"pics/standardDeviation.png\">"
   ]
  },
  {
   "cell_type": "markdown",
   "metadata": {},
   "source": [
    "<img src=\"pics/standardDeviation2.png\">"
   ]
  },
  {
   "cell_type": "code",
   "execution_count": null,
   "metadata": {},
   "outputs": [],
   "source": [
    "Varyans - Variance : Standart sapmanın karesidir. Ortalamadan olan sapmaların karelerinin ortalamasıdır."
   ]
  },
  {
   "cell_type": "markdown",
   "metadata": {},
   "source": [
    "<img src=\"pics/variance.png\">"
   ]
  },
  {
   "cell_type": "markdown",
   "metadata": {},
   "source": [
    "<img src=\"pics/variance2.png\">"
   ]
  },
  {
   "cell_type": "markdown",
   "metadata": {},
   "source": [
    "Çarpıklık - Skewness : Çarpıklık bir değişkenin dağılımının simetrik olamayışıdır. Çarpıklık varsa veri medyan değeri ile temsil edilmelidir."
   ]
  },
  {
   "cell_type": "markdown",
   "metadata": {},
   "source": [
    "<img src=\"pics/pearson.png\">"
   ]
  },
  {
   "cell_type": "markdown",
   "metadata": {},
   "source": [
    "<img src=\"pics/pearson2.png\">"
   ]
  },
  {
   "cell_type": "markdown",
   "metadata": {},
   "source": [
    "Kurtosis - Basıklık : Dağılımın basıklığını/sivriliğini gösterir."
   ]
  },
  {
   "cell_type": "markdown",
   "metadata": {},
   "source": [
    "<img src=\"pics/kurtosis.png\">"
   ]
  },
  {
   "cell_type": "markdown",
   "metadata": {},
   "source": [
    "<img src=\"pics/kurtosis2.png\">"
   ]
  },
  {
   "cell_type": "markdown",
   "metadata": {},
   "source": [
    "<img src=\"pics/kurtosis3.png\">"
   ]
  },
  {
   "cell_type": "markdown",
   "metadata": {},
   "source": [
    "# # Statistical Thinking Models - İstatistiksel Düşünce Modelleri"
   ]
  },
  {
   "cell_type": "markdown",
   "metadata": {},
   "source": [
    "<img src=\"pics/statisticalThinkingModels.png\">"
   ]
  },
  {
   "cell_type": "markdown",
   "metadata": {},
   "source": [
    "<img src=\"pics/statisticalThinkingModels2.png\">"
   ]
  },
  {
   "cell_type": "markdown",
   "metadata": {},
   "source": [
    "<img src=\"pics/statisticalThinkingModels3.png\">"
   ]
  },
  {
   "cell_type": "markdown",
   "metadata": {},
   "source": []
  }
 ],
 "metadata": {
  "kernelspec": {
   "display_name": "Python 3",
   "language": "python",
   "name": "python3"
  },
  "language_info": {
   "codemirror_mode": {
    "name": "ipython",
    "version": 3
   },
   "file_extension": ".py",
   "mimetype": "text/x-python",
   "name": "python",
   "nbconvert_exporter": "python",
   "pygments_lexer": "ipython3",
   "version": "3.6.5"
  }
 },
 "nbformat": 4,
 "nbformat_minor": 2
}
